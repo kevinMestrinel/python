{
 "cells": [
  {
   "cell_type": "markdown",
   "metadata": {},
   "source": [
    "\n",
    "1. Faça um Programa que peça dois números e imprima o maior deles.\n",
    "\n"
   ]
  },
  {
   "cell_type": "code",
   "execution_count": 12,
   "metadata": {},
   "outputs": [
    {
     "name": "stdout",
     "output_type": "stream",
     "text": [
      "Digite o primero numero: \n",
      "Digite o segundo numero: \n",
      "os numeros são iguais\n"
     ]
    }
   ],
   "source": [
    "n1 = input('Digite o primero numero: ')\n",
    "n2 = input('Digite o segundo numero: ')\n",
    "\n",
    "if n1 > n2:\n",
    "    print (n1,'é maior que',n2)\n",
    "elif n2 > n1:\n",
    "    print (n2,'é maior que',n1)\n",
    "else:  \n",
    "    print ('os numeros são iguais')"
   ]
  },
  {
   "cell_type": "markdown",
   "metadata": {},
   "source": [
    "2. Faça um Programa que verifique se uma letra digitada é vogal ou consoante."
   ]
  },
  {
   "cell_type": "code",
   "execution_count": null,
   "metadata": {},
   "outputs": [],
   "source": [
    "x = input('Digite uma letra')\n",
    "if x == \"a\" or x == \"e\" or x == \"i\" or x == \"o\" or x == \"u\" or x== \"A\" or x == \"E\" or x == \"I\" or x == \"O\" or x == \"U\":\n",
    "    print('Digitou Vogal')\n",
    "    \n",
    "elif x == \"b\" or x == \"c\" or x == \"d\" or x == \"f\" or x == \"g\" or x == \"h\" or x == \"j\" or x == \"k\" or x == \"l\" or x == \"m\" or x == \"n\" or x == \"p\" or x == \"q\" or x == \"r\" or x == \"s\" or x == \"t\" or x == \"v\" or x == \"w\" or x == \"x\" or x == \"y\" or x == \"z\":\n",
    "    print('Digitou Consoante')\n",
    "\n",
    "else:\n",
    "    print('Valor não aceito')\n",
    "    "
   ]
  },
  {
   "cell_type": "markdown",
   "metadata": {},
   "source": [
    "3. Faça um programa para a leitura de duas notas parciais de um aluno. O programa deve calcular a média alcançada por aluno e apresentar:\n",
    "- A mensagem \"Aprovado\", se a média alcançada for maior ou igual a sete;\n",
    "- A mensagem \"Reprovado\", se a média for menor do que sete;\n",
    "- A mensagem \"Aprovado com Distinção\", se a média for igual a dez."
   ]
  },
  {
   "cell_type": "code",
   "execution_count": 42,
   "metadata": {},
   "outputs": [
    {
     "name": "stdout",
     "output_type": "stream",
     "text": [
      "Digite a primeira nota: 7\n",
      "Digite a segunda nota: 5\n",
      "Reprovado.\n"
     ]
    }
   ],
   "source": [
    "nota1 = int(input('Digite a primeira nota: '))\n",
    "nota2 = int(input('Digite a segunda nota: '))\n",
    "media = (nota1 + nota2)/2\n",
    "if media == 10:\n",
    "    print('Aprovado com Distinção.')\n",
    "elif media >= 7 and media < 10:\n",
    "    print('Aprovado.')\n",
    "else:\n",
    "    print('Reprovado.')\n"
   ]
  },
  {
   "cell_type": "markdown",
   "metadata": {},
   "source": [
    "4. Faça um Programa que leia três números e mostre-os em ordem decrescente."
   ]
  },
  {
   "cell_type": "code",
   "execution_count": 44,
   "metadata": {},
   "outputs": [
    {
     "name": "stdout",
     "output_type": "stream",
     "text": [
      "Digite o primeiro número: 9\n",
      "Digite o segundo número: 8\n",
      "Digite o terceiro número: 7\n",
      "9 8 7\n"
     ]
    }
   ],
   "source": [
    "n1 = int(input('Digite o primeiro número: '))\n",
    "n2 = int(input('Digite o segundo número: '))\n",
    "n3 = int(input('Digite o terceiro número: '))\n",
    "if n1 > n2 > n3:\n",
    "    print(n1, n2, n3)\n",
    "if n1 > n3 > n2:\n",
    "    print(n1, n3, n2)\n",
    "if n2 > n1 > n3:\n",
    "    print(n2, n1, n3)\n",
    "if n2 > n3 > n1:\n",
    "    print(n2, n3, n1)\n",
    "if n3 > n1 > n2:\n",
    "    print(n3, n1, n2)\n",
    "if n3 > n2 > n1:\n",
    "    print(n3, n2, n1)\n",
    "if n1 == n2 or n1 == n3 or n2 == n3:\n",
    "    print ('Invalido')\n"
   ]
  },
  {
   "cell_type": "markdown",
   "metadata": {},
   "source": [
    "5. As Organizações Tabajara resolveram dar um aumento de salário aos seus\n",
    "colaboradores e lhe contrataram para desenvolver o programa que calculará os\n",
    "reajustes.\n",
    "Faça um programa que recebe o salário de um colaborador e o reajuste segundo o\n",
    "seguinte critério, baseado no salário atual:\n",
    "- salários até R$ 280,00 (incluindo) : aumento de 20%\n",
    "- salários entre R$ 280,00 e R$ 700,00 : aumento de 15%\n",
    "- salários entre R$ 700,00 e R$ 1500,00 : aumento de 10%\n",
    "- salários de R$ 1500,00 em diante : aumento de 5% Após o aumento ser realizado,\n",
    "informe na tela:\n",
    "- o salário antes do reajuste;\n",
    "- o percentual de aumento aplicado;\n",
    "- o valor do aumento;\n",
    "- o novo salário, após o aumento."
   ]
  },
  {
   "cell_type": "code",
   "execution_count": 48,
   "metadata": {},
   "outputs": [
    {
     "name": "stdout",
     "output_type": "stream",
     "text": [
      "Digite seu salario250\n",
      "seu salário antes do reajuste: R$ 250.0\n",
      "Percentual aumentado: % 15\n",
      "O valor do aumento é: R$ 37.5\n",
      "Com o reajuste, o seu salário é: R$ 287.5\n"
     ]
    }
   ],
   "source": [
    "salario = float(input('Digite seu salario'))\n",
    "if salario <= 280.00:\n",
    "        por = (15 / 100.0) * salario\n",
    "        resultado = salario + por\n",
    "        print ('seu salário antes do reajuste: R$',salario)\n",
    "        print ('Percentual aumentado: %',15)\n",
    "        print ('O valor do aumento é: R$',por)\n",
    "        print ('Com o reajuste, o seu salário é: R$',resultado)\n",
    "        \n",
    "elif salario > 700.00 and salario <= 1500.00:\n",
    "        por = (10 / 100.0) * salario\n",
    "        resultado = salario + por\n",
    "        print ('seu salário antes do reajuste: R$',salario)\n",
    "        print ('Percentual aumentado: %',10)\n",
    "        print ('O valor do aumento é: R$',por)\n",
    "        print ('Com o reajuste, o seu salário é: R$',resultado)\n",
    "        \n",
    "elif salario > 1500.00:\n",
    "        por = (5 / 100.0) * salario\n",
    "        resultado = salario + por\n",
    "        print ('seu salário antes do reajuste: R$',salario)\n",
    "        print ('Percentual aumentado: %',5)\n",
    "        print ('O valor do aumento é: R$',por)\n",
    "        print ('Com o reajuste, o seu salário é: R$',resultado)\n"
   ]
  },
  {
   "cell_type": "markdown",
   "metadata": {},
   "source": [
    "6. Faça um Programa que leia um número e exiba o dia correspondente da semana.\n",
    "(1-Domingo, 2- Segunda, etc.), se digitar outro valor deve aparecer valor inválido."
   ]
  },
  {
   "cell_type": "code",
   "execution_count": 2,
   "metadata": {},
   "outputs": [
    {
     "name": "stdout",
     "output_type": "stream",
     "text": [
      "Digite um numero: 1\n",
      "1-Domingo\n"
     ]
    }
   ],
   "source": [
    "numero = int(input('Digite um numero: '))\n",
    "\n",
    "if numero == 1:\n",
    "    print ('1-Domingo')\n",
    "elif numero == 2:\n",
    "    print ('2-Segunda')\n",
    "elif numero == 3:\n",
    "    print ('3-Terça')\n",
    "elif numero == 4:\n",
    "    print ('4-Quarta')\n",
    "elif numero == 5:\n",
    "    print ('5-Quinta')\n",
    "elif numero == 6:\n",
    "    print ('6-Sexta')\n",
    "elif numero == 7:\n",
    "    print ('7-Sabádo')\n",
    "else:\n",
    "    print ('Intrada invalida')"
   ]
  },
  {
   "cell_type": "markdown",
   "metadata": {},
   "source": [
    "7 - Faça um programa que lê as duas notas parciais obtidas por um aluno numa\n",
    "disciplina ao longo de um semestre, e calcule a sua média. A atribuição de conceitos\n",
    "obedece à tabela abaixo:\n",
    "- Média de Aproveitamento Conceito\n",
    "- Entre 9.0 e 10.0 A\n",
    "- Entre 7.5 e 9.0 B\n",
    "- Entre 6.0 e 7.5 C\n",
    "- Entre 4.0 e 6.0 D\n",
    "- Entre 4.0 e zero E\n",
    "O algoritmo deve mostrar na tela as notas, a média, o conceito correspondente e a\n",
    "mensagem “APROVADO” se o conceito for A, B ou C ou “REPROVADO” se o conceito\n",
    "for D ou E"
   ]
  },
  {
   "cell_type": "code",
   "execution_count": 9,
   "metadata": {},
   "outputs": [
    {
     "name": "stdout",
     "output_type": "stream",
     "text": [
      "Digite sua nota10\n",
      "Digite sua nota10\n",
      "Sua primeira nota foi:  10.0\n",
      "Sua segunda nota foi:  10.0\n",
      "Sua média é:  10.0\n",
      "Seu conceito é A\n",
      "Aprovado\n"
     ]
    }
   ],
   "source": [
    "nota1 = float(input('Digite sua nota'))\n",
    "nota2 = float(input('Digite sua nota'))\n",
    "media = ((nota1 + nota2)/2)\n",
    "\n",
    "if media >= 9 and media <= 10:\n",
    "    print('Sua primeira nota foi: ',nota1)\n",
    "    print('Sua segunda nota foi: ',nota2)\n",
    "    print('Sua média é: ', media)\n",
    "    print ('Seu conceito é A')\n",
    "    print ('Aprovado')\n",
    "    \n",
    "elif media >= 7.5 and media < 9:\n",
    "    print('Sua primeira nota foi: ',nota1)\n",
    "    print('Sua segunda nota foi: ',nota2)\n",
    "    print('Sua média é: ', media)\n",
    "    print ('Seu conceito é B')\n",
    "    print ('Aprovado')\n",
    "    \n",
    "elif media >= 6 and media < 7.5:\n",
    "    print('Sua primeira nota foi: ',nota1)\n",
    "    print('Sua segunda nota foi: ',nota2)\n",
    "    print('Sua média é: ', media)\n",
    "    print('Seu conceito é C')\n",
    "    print('Aprovado')\n",
    "    \n",
    "elif media >= 4 and media < 6:\n",
    "    print('Sua primeira nota foi: ',nota1)\n",
    "    print('Sua segunda nota foi: ',nota2)\n",
    "    print('Sua média é: ', media)\n",
    "    print('Seu conceito é D')\n",
    "    print('Reprovado')\n",
    "    \n",
    "elif media >= 0 and media < 4:\n",
    "    print('Sua primeira nota foi: ',nota1)\n",
    "    print('Sua segunda nota foi: ',nota2)\n",
    "    print('Sua média é: ', media)\n",
    "    print('Seu conceito é E')\n",
    "    print('Reprovado')\n"
   ]
  },
  {
   "cell_type": "markdown",
   "metadata": {},
   "source": [
    "8 - Faça um Programa que peça os 3 lados de um triângulo. O programa deverá\n",
    "informar se os valores podem ser um triângulo. Indique, caso os lados formem um\n",
    "triângulo, se o mesmo é: equilátero, isósceles ou escaleno.\n",
    "Dicas:\n",
    "- Três lados formam um triângulo quando a soma de quaisquer dois lados for maior\n",
    "que o terceiro;\n",
    "- Triângulo Equilátero: três lados iguais;\n",
    "- Triângulo Isósceles: quaisquer dois lados iguais;\n",
    "- Triângulo Escaleno: três lados diferentes;\n"
   ]
  },
  {
   "cell_type": "code",
   "execution_count": 16,
   "metadata": {},
   "outputs": [
    {
     "name": "stdout",
     "output_type": "stream",
     "text": [
      "Digite o primeiro lado: 20\n",
      "Digite o segundo lado: 5\n",
      "Digite o terceiro lado: 5\n",
      "Não pode ser um triangulo\n"
     ]
    }
   ],
   "source": [
    "l1 = float(input('Digite o primeiro lado: '))\n",
    "l2 = float(input('Digite o segundo lado: '))\n",
    "l3 = float(input('Digite o terceiro lado: '))\n",
    "\n",
    "if l1 > (l2 + l3) or l2 > (l1 + l3) or l3 > (l1 + l2):\n",
    "    print ('Não pode ser um triangulo')\n",
    "    \n",
    "elif l1 == l2 and l1 == l3 and l2 == l3:\n",
    "    print('Primeiro lado: ',l1)\n",
    "    print('Segundo lado: ',l2)\n",
    "    print('Terceiro lado: ',l3)\n",
    "    print('O triângulo é equilátero, todos lados iguais')\n",
    "\n",
    "elif l1 == l2 or l1 == l3 or l2 == l3:\n",
    "    print('Primeiro lado: ',l1)\n",
    "    print('Segundo lado: ',l2)\n",
    "    print('Terceiro lado: ',l3)\n",
    "    print('Triângulo Isósceles: quaisquer dois lados iguais')\n",
    "    \n",
    "else:\n",
    "    print('Primeiro lado: ',l1)\n",
    "    print('Segundo lado: ',l2)\n",
    "    print('Terceiro lado: ',l3)\n",
    "    print('Triângulo Escaleno: três lados diferentes')\n",
    "    "
   ]
  },
  {
   "cell_type": "markdown",
   "metadata": {},
   "source": [
    "9 - Faça um programa que calcule as raízes de uma equação do segundo grau, na forma ax2 + bx + c. O programa deverá pedir os valores de a, b e c e fazer as consistências, informando ao usuário nas seguintes situações:\n",
    "- Se o usuário informar o valor de A igual a zero, a equação não é do segundo grau e o programa não deve fazer pedir os demais valores, sendo encerrado;- Se o delta calculado for negativo, a equação não possui raizes reais. Informe ao usuário e encerre o programa;\n",
    "- Se o delta calculado for igual a zero a equação possui apenas uma raiz real; informe-a ao usuário;\n",
    "- Se o delta for positivo, a equação possui duas raiz reais; informe-as ao usuário;"
   ]
  },
  {
   "cell_type": "code",
   "execution_count": null,
   "metadata": {},
   "outputs": [],
   "source": []
  }
 ],
 "metadata": {
  "kernelspec": {
   "display_name": "Python 3",
   "language": "python",
   "name": "python3"
  },
  "language_info": {
   "codemirror_mode": {
    "name": "ipython",
    "version": 3
   },
   "file_extension": ".py",
   "mimetype": "text/x-python",
   "name": "python",
   "nbconvert_exporter": "python",
   "pygments_lexer": "ipython3",
   "version": "3.6.4"
  }
 },
 "nbformat": 4,
 "nbformat_minor": 2
}
