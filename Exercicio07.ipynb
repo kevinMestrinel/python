{
 "cells": [
  {
   "cell_type": "markdown",
   "metadata": {},
   "source": [
    "Kevin Araújo Mestrinel - 816118639"
   ]
  },
  {
   "cell_type": "markdown",
   "metadata": {},
   "source": [
    "## 2 Defina a função div que recebe como argumentos dois números naturais m e n e devolve o resultado da divisão inteira de m por n. Neste exercício você não pode recorrer às operações aritméticas de multiplicação, divisão e resto da divisão inteira.\n",
    "Ex: div(7,2) = 3"
   ]
  },
  {
   "cell_type": "code",
   "execution_count": 3,
   "metadata": {},
   "outputs": [],
   "source": [
    "div = lambda m,n: 1 + div(m - n, n) if m >= n else 0\n",
    "\n",
    "assert(div(7,2) == 3)"
   ]
  },
  {
   "cell_type": "markdown",
   "metadata": {},
   "source": [
    "## 3 Defina a função prim_alg que recebe como argumento um número natural e devolve o primeiro algarismo (o mais significativo) na representação decimal de n."
   ]
  },
  {
   "cell_type": "code",
   "execution_count": 2,
   "metadata": {},
   "outputs": [],
   "source": [
    "prim_alg_lambda = lambda num: num if len(str(num)) == 1 else prim_alg_lambda(str(num)[:-1])"
   ]
  },
  {
   "cell_type": "markdown",
   "metadata": {},
   "source": [
    "## 4 Defina a função prod_lista que recebe como argumento uma lista de inteiros e devolve o produto dos seus elementos.\n",
    "Ex: prod_lista([1,2,3,4,5,6]) = 720"
   ]
  },
  {
   "cell_type": "code",
   "execution_count": 4,
   "metadata": {},
   "outputs": [],
   "source": [
    "prod_lista = lambda lista: lista[len(lista) - 1] * prod_lista(lista[:-1]) if len(lista) > 0 else 1"
   ]
  },
  {
   "cell_type": "markdown",
   "metadata": {},
   "source": [
    "## 7 Defina a função pertenceQ que recebe como argumentos uma lista de números inteiros w e um número inteiro n e devolve True se n ocorre em w e False em caso contrário.\n",
    "Ex: pertenceQ([1,2,3],1) = True Ex: pertenceQ([1,2,3],2) = True Ex: pertenceQ([1,2,3],3) = True Ex: pertenceQ([1,2,3],4) = False"
   ]
  },
  {
   "cell_type": "code",
   "execution_count": 6,
   "metadata": {},
   "outputs": [],
   "source": [
    "monta = lambda: int(input('Insira um int na lista: '))\n",
    "inteiro = lambda: int(input('Digite um int: '))\n",
    "pertence_q = lambda lista, numero: True if len(lista)> 0 and (numero in lista or pertence_q(lista[:-1],numero)) else False\n",
    "main = lambda funcao: funcao()"
   ]
  },
  {
   "cell_type": "code",
   "execution_count": null,
   "metadata": {},
   "outputs": [],
   "source": []
  },
  {
   "cell_type": "markdown",
   "metadata": {},
   "source": [
    "## 10 Defina a função inverteLista que recebe como argumento uma lista w e devolve a mesma lista mas invertida.\n",
    "Ex: inverteLista([1,2,3,4,5]) = [5, 4, 3, 2, 1] Ex: inverteLista([])"
   ]
  },
  {
   "cell_type": "code",
   "execution_count": null,
   "metadata": {},
   "outputs": [],
   "source": [
    "control = lambda: int(input('Insira um int na lista: '))\n",
    "inverte = lambda lista: (inverte(lista[1:]) + lista[:1] if lista else [])\n",
    "main = lambda funcao: funcao()\n",
    "def montar():\n",
    "    lista = []\n",
    "    n_lista = []\n",
    "    print('insira elementos na lista ate inserir um elemento inválido')\n",
    "    while True:\n",
    "        try:\n",
    "            lista.append(monta())\n",
    "        except (ValueError, Exception):\n",
    "            print(f'Lista = {lista}')\n",
    "            n_lista = inverte(lista)\n",
    "            print(f'Lista Invertida = {n_lista}')\n",
    "            break\n",
    "main(montar)"
   ]
  }
 ],
 "metadata": {
  "kernelspec": {
   "display_name": "Python 3",
   "language": "python",
   "name": "python3"
  },
  "language_info": {
   "codemirror_mode": {
    "name": "ipython",
    "version": 3
   },
   "file_extension": ".py",
   "mimetype": "text/x-python",
   "name": "python",
   "nbconvert_exporter": "python",
   "pygments_lexer": "ipython3",
   "version": "3.6.4"
  }
 },
 "nbformat": 4,
 "nbformat_minor": 2
}
