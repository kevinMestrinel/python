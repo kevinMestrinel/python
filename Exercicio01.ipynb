{
 "cells": [
  {
   "cell_type": "markdown",
   "metadata": {},
   "source": [
    "1 Faça um Programa que peça o raio de um círculo, calcule e mostre sua área."
   ]
  },
  {
   "cell_type": "code",
   "execution_count": 6,
   "metadata": {},
   "outputs": [
    {
     "name": "stdout",
     "output_type": "stream",
     "text": [
      "Digite a área do Circulo em metros:  3.5\n",
      "A área do circulo é:  38.465 m²\n"
     ]
    }
   ],
   "source": [
    "pi = 3.14 \n",
    "r  = float(input('Digite a área do Circulo em metros:  '))\n",
    "a =  pi * (r * r)\n",
    "print ('A área do circulo é: ', a, 'm²')"
   ]
  },
  {
   "cell_type": "markdown",
   "metadata": {},
   "source": [
    "2 Faça um Programa que calcule a área de um quadrado, em seguida mostre o dobro\n",
    "desta área para o usuário."
   ]
  },
  {
   "cell_type": "code",
   "execution_count": 9,
   "metadata": {},
   "outputs": [
    {
     "name": "stdout",
     "output_type": "stream",
     "text": [
      "Digite a altura ou largura do quadrado: 2\n",
      "A area é:  4.0\n",
      "O dobro da area é:  8.0\n"
     ]
    }
   ],
   "source": [
    "medida = float(input('Digite a altura ou largura do quadrado: '))\n",
    "area = medida * 2\n",
    "dobroArea = area * 2\n",
    "print ('A area é: ', area)\n",
    "print('O dobro da area é: ', dobroArea)"
   ]
  },
  {
   "cell_type": "markdown",
   "metadata": {},
   "source": [
    "3 Faça um Programa que pergunte quanto você ganha por hora e o número de horas\n",
    "trabalhadas no mês. Calcule e mostre o total do seu salário no referido mês."
   ]
  },
  {
   "cell_type": "code",
   "execution_count": 11,
   "metadata": {},
   "outputs": [
    {
     "name": "stdout",
     "output_type": "stream",
     "text": [
      "Quanto ganha por hora: 10\n",
      "Quantas horas trabalha no mês: 8\n",
      "Você recebe R$ 80.0  no mês\n"
     ]
    }
   ],
   "source": [
    "ganha = float(input('Quanto ganha por hora: '))\n",
    "tempo = float(input('Quantas horas trabalha no mês: '))\n",
    "salario = ganha * tempo\n",
    "print('Você recebe R$', salario, 'no mês')"
   ]
  },
  {
   "cell_type": "markdown",
   "metadata": {},
   "source": [
    "4 Faça um Programa que peça a temperatura em graus Farenheit, transforme e\n",
    "mostre a temperatura em graus Celsius. C = (5 * (F-32) / 9)."
   ]
  },
  {
   "cell_type": "code",
   "execution_count": 13,
   "metadata": {},
   "outputs": [
    {
     "name": "stdout",
     "output_type": "stream",
     "text": [
      "Digite a temperatura em graus Farenheit: 200\n",
      "A temperatura é:  93.33333333333333 ºC\n"
     ]
    }
   ],
   "source": [
    "f = float(input('Digite a temperatura em graus Farenheit: '))\n",
    "c = (5 * (f-32) / 9)\n",
    "print('A temperatura é: ', c, 'ºC')"
   ]
  },
  {
   "cell_type": "markdown",
   "metadata": {},
   "source": [
    "5 Faça um Programa que peça a temperatura em graus Celsius, transforme e mostre\n",
    "em graus Farenheit."
   ]
  },
  {
   "cell_type": "code",
   "execution_count": 14,
   "metadata": {},
   "outputs": [
    {
     "name": "stdout",
     "output_type": "stream",
     "text": [
      "Digite a temperatura em graus Celsius29\n",
      "A temperatura é:  84.2 ºF\n"
     ]
    }
   ],
   "source": [
    "c = float(input('Digite a temperatura em graus Celsius: '))\n",
    "vt = c * 1.8\n",
    "f = vt + 32\n",
    "print('A temperatura é: ', f, 'ºF')"
   ]
  },
  {
   "cell_type": "markdown",
   "metadata": {},
   "source": [
    "6 Faça um Programa que peça 2 números inteiros e um número real. Calcule e\n",
    "mostre:\n",
    "- o produto do dobro do primeiro com metade do segundo .\n",
    "- a soma do triplo do primeiro com o terceiro.\n",
    "- o terceiro elevado ao cubo."
   ]
  },
  {
   "cell_type": "code",
   "execution_count": 15,
   "metadata": {},
   "outputs": [
    {
     "name": "stdout",
     "output_type": "stream",
     "text": [
      "Digite o primeiro número do tipo inteiro: 2\n",
      "Digite o segundo número do tipo inteiro: 2\n",
      "Digite o terceiro número real: 2\n",
      "O produto do dobro do primeiro com metade do segundo:  5.0\n",
      "A soma do triplo do primeiro com o terceiro:  8.0\n",
      "O terceiro elevado ao cubo:  8.0\n"
     ]
    }
   ],
   "source": [
    "n1 = int(input('Digite o primeiro número do tipo inteiro: '))\n",
    "n2 = int(input('Digite o segundo número do tipo inteiro: '))\n",
    "n3 = float(input('Digite o terceiro número real: '))\n",
    "produto = (n1 * 2) + (n2/2)\n",
    "soma = (n1*3) + n3\n",
    "cubo = n3**3\n",
    "\n",
    "print('O produto do dobro do primeiro com metade do segundo: ', produto)\n",
    "print('A soma do triplo do primeiro com o terceiro: ', soma)\n",
    "print('O terceiro elevado ao cubo: ', cubo)"
   ]
  },
  {
   "cell_type": "markdown",
   "metadata": {},
   "source": [
    "7 João Papo-de-Pescador, homem de bem, comprou um microcomputador para\n",
    "controlar o rendimento diário de seu trabalho. Toda vez que ele traz um peso de\n",
    "peixes maior que o estabelecido pelo regulamento de pesca do estado de São Paulo\n",
    "(50 quilos) deve pagar uma multa de R$ 4,00 por quilo excedente. João precisa que\n",
    "você faça um programa que leia a variável peso (peso de peixes) e verifique se há\n",
    "excesso. Se houver, gravar na variável excesso e na variável multa o valor da multa\n",
    "que João deverá pagar. Caso contrário mostrar tais variáveis com o conteúdo ZERO."
   ]
  },
  {
   "cell_type": "code",
   "execution_count": 18,
   "metadata": {},
   "outputs": [
    {
     "name": "stdout",
     "output_type": "stream",
     "text": [
      "Digite o KG do peixe pescado: 51\n",
      "Você precisa pagar R$:  4.0\n"
     ]
    }
   ],
   "source": [
    "peso = float(input('Digite o KG do peixe pescado: '))\n",
    "if peso > 50:\n",
    "    pesoAcima = peso - 50\n",
    "    multa = 4 * pesoAcima\n",
    "    print('Você precisa pagar R$: ', multa)\n",
    "else:\n",
    "    print('Não passou do peso, não tem multa')"
   ]
  },
  {
   "cell_type": "markdown",
   "metadata": {},
   "source": [
    "8 Faça um Programa que pergunte quanto você ganha por hora e o número de horas\n",
    "trabalhadas no mês. Calcule e mostre o total do seu salário no referido mês,\n",
    "sabendo-se que são descontados 11% para o Imposto de Renda, 8% para o INSS e 5%\n",
    "para o sindicato, faça um programa que nos dê:\n",
    "- salário bruto.\n",
    "- quanto pagou ao INSS.\n",
    "- quanto pagou ao sindicato.\n",
    "- o salário líquido.\n",
    "- calcule os descontos e o salário líquido, conforme a tabela abaixo:\n",
    "+ Salário Bruto : R$\n",
    "- IR (11%) : R$\n",
    "- INSS (8%) : R$\n",
    "- Sindicato ( 5%) : R$\n",
    "= Salário Liquido : R$\n",
    "Obs.: Salário Bruto - Descontos = Salário Líquido."
   ]
  },
  {
   "cell_type": "code",
   "execution_count": 19,
   "metadata": {},
   "outputs": [
    {
     "name": "stdout",
     "output_type": "stream",
     "text": [
      "Quanto ganha por hora: 10\n",
      "Quantas horas trabalha no mês: 8\n",
      "Você recebe salário bruto de R$ 80.0 no mês\n",
      "Você paga R$ 6.4 de INSS no mês\n",
      "Você paga R$ 4.0 de sindicato no mês\n",
      "Você recebe salário Liguido de R$:  60.8 no mês\n"
     ]
    }
   ],
   "source": [
    "ganha = float(input('Quanto ganha por hora: '))\n",
    "tempo = float(input('Quantas horas trabalha no mês: '))\n",
    "salario = ganha * tempo\n",
    "impostoRenda = (11/100) * salario\n",
    "inss = (8/100) * salario\n",
    "sindicato = (5/100) * salario\n",
    "salarioL = salario - impostoRenda - inss - sindicato\n",
    "print('Você recebe salário bruto de R$', salario, 'no mês')\n",
    "print('É descontado R$', inss, 'de INSS no mês')\n",
    "print('É descontado R$', sindicato, 'de sindicato no mês')\n",
    "print('Você recebe salário Liguido de R$: ',salarioL, 'no mês')"
   ]
  },
  {
   "cell_type": "markdown",
   "metadata": {},
   "source": [
    "9 Faça um programa que leia 2 strings e informe o conteúdo delas seguido do seu\n",
    "comprimento. Informe também se as duas strings possuem o mesmo comprimento e\n",
    "são iguais ou diferentes no conteúdo.\n",
    "Exemplo:\n",
    "String 1: Brasil Hexa 2018\n",
    "String 2: Brasil! Hexa 2018!\n",
    "Tamanho de \"Brasil Hexa 2018\": 16 caracteres\n",
    "Tamanho de \"Brasil! Hexa 2018!\": 18 caracteres\n",
    "As duas strings são de tamanhos diferentes.\n",
    "As duas strings possuem conteúdo diferente."
   ]
  },
  {
   "cell_type": "code",
   "execution_count": 30,
   "metadata": {},
   "outputs": [
    {
     "name": "stdout",
     "output_type": "stream",
     "text": [
      "digite algo: oi\n",
      "digite outra coisa: oi\n",
      "oi 2 caracteres\n",
      "oi 2 caracteres\n",
      "As duas são do mesmo tamanho\n",
      "As duas strings possuem o mesmo conteúdo\n"
     ]
    }
   ],
   "source": [
    "string1 = input ('digite algo: ')\n",
    "string2 = input ('digite outra coisa: ')\n",
    "tamanho1 = len(string1)\n",
    "tamanho2 = len(string2)\n",
    "if tamanho1 == tamanho2:\n",
    "    print(string1, tamanho1,'caracteres')\n",
    "    print(string2, tamanho2,'caracteres')\n",
    "    print('As duas são do mesmo tamanho')\n",
    "else:\n",
    "    print(string1, tamanho1,'caracteres')\n",
    "    print(string2, tamanho2,'caracteres')\n",
    "    print('Não são do mesmo tamanho')\n",
    "    \n",
    "if string1 == string2:\n",
    "    print('As duas strings possuem o mesmo conteúdo')\n",
    "else:\n",
    "    print('As duas strings não possuem o mesmo conteúdo')\n",
    "    "
   ]
  },
  {
   "cell_type": "markdown",
   "metadata": {},
   "source": [
    "10 Faça um programa que permita ao usuário digitar o seu nome e em seguida\n",
    "mostre o nome do usuário de trás para frente utilizando somente letras maiúsculas.\n",
    "Dica: lembre−se que ao informar o nome o usuário pode digitar letras maiúsculas ou\n",
    "minúsculas. Observação: não use loops."
   ]
  },
  {
   "cell_type": "code",
   "execution_count": 29,
   "metadata": {},
   "outputs": [
    {
     "name": "stdout",
     "output_type": "stream",
     "text": [
      "Digite seu nome: Tais\n",
      "SIAT\n"
     ]
    }
   ],
   "source": [
    "nome = input('Digite seu nome: ')\n",
    "nome = nome.upper()\n",
    "resultado = ''\n",
    "\n",
    "print(nome[::-1])"
   ]
  },
  {
   "cell_type": "markdown",
   "metadata": {},
   "source": [
    "11 Faça um programa que solicite a data de nascimento (dd/mm/aaaa) do usuário e\n",
    "imprima a data com o nome do mês por extenso.\n",
    "Data de Nascimento: 29/10/1973\n",
    "Você nasceu em 29 de Outubro de 1973.\n",
    "Obs.: Não use desvio condicional nem loops."
   ]
  },
  {
   "cell_type": "code",
   "execution_count": 40,
   "metadata": {},
   "outputs": [
    {
     "name": "stdout",
     "output_type": "stream",
     "text": [
      "Data (dd/mm/aaaa): 16/02/1998\n",
      "Você nasceu em 16 de fevereiro de 1998\n"
     ]
    }
   ],
   "source": [
    "dia, mes, ano = input('Data (dd/mm/aaaa): ').split('/')\n",
    "meses = ['janeiro','fevereiro','março','abril', 'maio','junho','julho','agosto','setembro', 'outubro','novembro','dezembro']\n",
    "\n",
    "print ('Você nasceu em %s de %s de %s' %(dia, meses[int(mes) - 1], ano))"
   ]
  },
  {
   "cell_type": "markdown",
   "metadata": {},
   "source": [
    "12 Leet é uma forma de se escrever o alfabeto latino usando outros símbolos em\n",
    "lugar das letras, como números por exemplo. A própria palavra leet admite muitas\n",
    "variações, como l33t ou 1337. O uso do leet reflete uma subcultura relacionada ao\n",
    "mundo dos jogos de computador e internet, sendo muito usada para confundir os\n",
    "iniciantes e afirmar-se como parte de um grupo. Pesquise sobre as principais formas\n",
    "de traduzir as letras. Depois, faça um programa que peça uma texto e transforme-o\n",
    "para a grafia leet speak.\n",
    "Desafio: não use loops nem desvios condicionais."
   ]
  },
  {
   "cell_type": "code",
   "execution_count": 58,
   "metadata": {},
   "outputs": [
    {
     "name": "stdout",
     "output_type": "stream",
     "text": [
      "Digite algo: ola\n"
     ]
    },
    {
     "ename": "TypeError",
     "evalue": "replace() argument 2 must be str, not dict",
     "output_type": "error",
     "traceback": [
      "\u001b[1;31m---------------------------------------------------------------------------\u001b[0m",
      "\u001b[1;31mTypeError\u001b[0m                                 Traceback (most recent call last)",
      "\u001b[1;32m<ipython-input-58-b23c60b224e1>\u001b[0m in \u001b[0;36m<module>\u001b[1;34m()\u001b[0m\n\u001b[0;32m      4\u001b[0m \u001b[1;33m\u001b[0m\u001b[0m\n\u001b[0;32m      5\u001b[0m \u001b[1;33m\u001b[0m\u001b[0m\n\u001b[1;32m----> 6\u001b[1;33m \u001b[0mprint\u001b[0m \u001b[1;33m(\u001b[0m\u001b[0mstr\u001b[0m\u001b[1;33m.\u001b[0m\u001b[0mreplace\u001b[0m\u001b[1;33m(\u001b[0m\u001b[0mtexto\u001b[0m\u001b[1;33m,\u001b[0m \u001b[0mleet\u001b[0m\u001b[1;33m)\u001b[0m\u001b[1;33m)\u001b[0m\u001b[1;33m\u001b[0m\u001b[0m\n\u001b[0m",
      "\u001b[1;31mTypeError\u001b[0m: replace() argument 2 must be str, not dict"
     ]
    }
   ],
   "source": [
    "texto = input('Digite algo: ')\n",
    "leet = {a:'4', b : '8', c : '(', d : '|)', e : '3', f : 'ph', g : '6', h : '#', i : '1', j : 'j', k : 'X', l : '1_', m : '|v|',\n",
    "n : '//', o: '0', p : '|>', q : 'q', r : '|2', t : '+', u : '|_|', v : 'v', w : '(n)', x : '><', y : 'y', z : '%'}\n",
    "\n",
    "\n",
    "print (texto.replace(texto, leet))"
   ]
  },
  {
   "cell_type": "code",
   "execution_count": null,
   "metadata": {},
   "outputs": [],
   "source": []
  }
 ],
 "metadata": {
  "kernelspec": {
   "display_name": "Python 3",
   "language": "python",
   "name": "python3"
  },
  "language_info": {
   "codemirror_mode": {
    "name": "ipython",
    "version": 3
   },
   "file_extension": ".py",
   "mimetype": "text/x-python",
   "name": "python",
   "nbconvert_exporter": "python",
   "pygments_lexer": "ipython3",
   "version": "3.6.4"
  }
 },
 "nbformat": 4,
 "nbformat_minor": 2
}
